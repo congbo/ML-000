{
 "cells": [
  {
   "cell_type": "code",
   "execution_count": 1,
   "metadata": {},
   "outputs": [],
   "source": [
    "import numpy as np\n",
    "import pandas as pd"
   ]
  },
  {
   "cell_type": "code",
   "execution_count": 99,
   "metadata": {},
   "outputs": [
    {
     "data": {
      "text/html": [
       "<div>\n",
       "<style scoped>\n",
       "    .dataframe tbody tr th:only-of-type {\n",
       "        vertical-align: middle;\n",
       "    }\n",
       "\n",
       "    .dataframe tbody tr th {\n",
       "        vertical-align: top;\n",
       "    }\n",
       "\n",
       "    .dataframe thead th {\n",
       "        text-align: right;\n",
       "    }\n",
       "</style>\n",
       "<table border=\"1\" class=\"dataframe\">\n",
       "  <thead>\n",
       "    <tr style=\"text-align: right;\">\n",
       "      <th></th>\n",
       "      <th>y</th>\n",
       "      <th>x</th>\n",
       "    </tr>\n",
       "  </thead>\n",
       "  <tbody>\n",
       "    <tr>\n",
       "      <th>0</th>\n",
       "      <td>1</td>\n",
       "      <td>5</td>\n",
       "    </tr>\n",
       "    <tr>\n",
       "      <th>1</th>\n",
       "      <td>1</td>\n",
       "      <td>0</td>\n",
       "    </tr>\n",
       "    <tr>\n",
       "      <th>2</th>\n",
       "      <td>0</td>\n",
       "      <td>3</td>\n",
       "    </tr>\n",
       "    <tr>\n",
       "      <th>3</th>\n",
       "      <td>0</td>\n",
       "      <td>3</td>\n",
       "    </tr>\n",
       "    <tr>\n",
       "      <th>4</th>\n",
       "      <td>1</td>\n",
       "      <td>7</td>\n",
       "    </tr>\n",
       "  </tbody>\n",
       "</table>\n",
       "</div>"
      ],
      "text/plain": [
       "   y  x\n",
       "0  1  5\n",
       "1  1  0\n",
       "2  0  3\n",
       "3  0  3\n",
       "4  1  7"
      ]
     },
     "execution_count": 99,
     "metadata": {},
     "output_type": "execute_result"
    }
   ],
   "source": [
    "np.random.seed(0)\n",
    "x = np.random.randint(10, size=(5000,1))\n",
    "y = np.random.randint(2, size=(5000,1))\n",
    "\n",
    "data = pd.DataFrame(np.concatenate([y,x],axis=1), columns=['y','x'])\n",
    "data.head()"
   ]
  },
  {
   "cell_type": "markdown",
   "metadata": {},
   "source": [
    "# 1. 讲义中的 v2 版本"
   ]
  },
  {
   "cell_type": "code",
   "execution_count": 171,
   "metadata": {},
   "outputs": [],
   "source": [
    "def target_mean_v2(data, y_name, x_name):\n",
    "    result = np.zeros(data.shape[0])\n",
    "    value_dict = dict()\n",
    "    count_dict = dict()\n",
    "    for i in range(data.shape[0]):\n",
    "        if data.loc[i, x_name] not in value_dict.keys():\n",
    "            value_dict[data.loc[i, x_name]] = data.loc[i, y_name]\n",
    "            count_dict[data.loc[i, x_name]] = 1\n",
    "        else:\n",
    "            value_dict[data.loc[i, x_name]] += data.loc[i, y_name]\n",
    "            count_dict[data.loc[i, x_name]] += 1\n",
    "#     print(value_dict)\n",
    "#     print(count_dict)\n",
    "    for i in range(data.shape[0]):\n",
    "        result[i] = (value_dict[data.loc[i, x_name]] - data.loc[i, y_name]) / (count_dict[data.loc[i, x_name]] - 1)\n",
    "    return result"
   ]
  },
  {
   "cell_type": "code",
   "execution_count": 74,
   "metadata": {},
   "outputs": [
    {
     "data": {
      "text/plain": [
       "array([0.53831041, 0.51089109, 0.45155039, ..., 0.47704591, 0.52410901,\n",
       "       0.55331992])"
      ]
     },
     "execution_count": 74,
     "metadata": {},
     "output_type": "execute_result"
    }
   ],
   "source": [
    "target_mean_v2(data, 'y', 'x')"
   ]
  },
  {
   "cell_type": "markdown",
   "metadata": {},
   "source": [
    "# 2. Python 原生优化"
   ]
  },
  {
   "cell_type": "markdown",
   "metadata": {},
   "source": [
    "## v3 提取变量优化\n",
    "y, x = data.loc[i] 慢"
   ]
  },
  {
   "cell_type": "code",
   "execution_count": 172,
   "metadata": {},
   "outputs": [],
   "source": [
    "def target_mean_v3(data, y_name, x_name):\n",
    "    result = np.zeros(data.shape[0])\n",
    "    value_dict = dict()\n",
    "    count_dict = dict()\n",
    "    for i in range(data.shape[0]):\n",
    "        y, x = data.loc[i]\n",
    "        if data.loc[i, x_name] not in value_dict.keys():\n",
    "            value_dict[x] = y\n",
    "            count_dict[x] = 1\n",
    "        else:\n",
    "            value_dict[x] += y\n",
    "            count_dict[x] += 1\n",
    "#     print(value_dict)\n",
    "#     print(count_dict)\n",
    "    for i in range(data.shape[0]):\n",
    "        y, x = data.loc[i]\n",
    "        result[i] = (value_dict[x] - y) / (count_dict[x] - 1)\n",
    "    return result"
   ]
  },
  {
   "cell_type": "code",
   "execution_count": 173,
   "metadata": {},
   "outputs": [
    {
     "data": {
      "text/plain": [
       "array([0.53831041, 0.51089109, 0.45155039, ..., 0.47704591, 0.52410901,\n",
       "       0.55331992])"
      ]
     },
     "execution_count": 173,
     "metadata": {},
     "output_type": "execute_result"
    }
   ],
   "source": [
    "target_mean_v3(data, 'y', 'x')"
   ]
  },
  {
   "cell_type": "markdown",
   "metadata": {},
   "source": [
    "## v3a 提取变量优化\n",
    "y, x = data.loc[i] 慢，y, x = data.loc[i, y_name],data.loc[i, x_name] 快，why？"
   ]
  },
  {
   "cell_type": "code",
   "execution_count": 174,
   "metadata": {},
   "outputs": [],
   "source": [
    "def target_mean_v3a(data, y_name, x_name):\n",
    "    result = np.zeros(data.shape[0])\n",
    "    value_dict = dict()\n",
    "    count_dict = dict()\n",
    "    for i in range(data.shape[0]):\n",
    "        y, x = data.loc[i, y_name],data.loc[i, x_name]\n",
    "        if data.loc[i, x_name] not in value_dict.keys():\n",
    "            value_dict[x] = y\n",
    "            count_dict[x] = 1\n",
    "        else:\n",
    "            value_dict[x] += y\n",
    "            count_dict[x] += 1\n",
    "#     print(value_dict)\n",
    "#     print(count_dict)\n",
    "    for i in range(data.shape[0]):\n",
    "        y, x = data.loc[i, y_name],data.loc[i, x_name]\n",
    "        result[i] = (value_dict[x] - y) / (count_dict[x] - 1)\n",
    "    return result"
   ]
  },
  {
   "cell_type": "code",
   "execution_count": 175,
   "metadata": {},
   "outputs": [
    {
     "name": "stdout",
     "output_type": "stream",
     "text": [
      "377 ms ± 16.3 ms per loop (mean ± std. dev. of 7 runs, 1 loop each)\n",
      "1.39 s ± 57.4 ms per loop (mean ± std. dev. of 7 runs, 1 loop each)\n",
      "274 ms ± 19.5 ms per loop (mean ± std. dev. of 7 runs, 1 loop each)\n"
     ]
    }
   ],
   "source": [
    "%timeit target_mean_v2(data, 'y', 'x')\n",
    "%timeit target_mean_v3(data, 'y', 'x')\n",
    "%timeit target_mean_v3a(data, 'y', 'x')"
   ]
  },
  {
   "cell_type": "markdown",
   "metadata": {},
   "source": [
    "## v3b 尝试 defaultdict （时快时慢）"
   ]
  },
  {
   "cell_type": "code",
   "execution_count": 177,
   "metadata": {},
   "outputs": [],
   "source": [
    "from collections import defaultdict\n",
    "\n",
    "def target_mean_v3b(data, y_name, x_name):\n",
    "    length = data.shape[0]\n",
    "    result = np.zeros(length)\n",
    "    value_dict = defaultdict(int)\n",
    "    count_dict = defaultdict(int)\n",
    "    for i in range(length):\n",
    "        y, x = data.loc[i, y_name],data.loc[i, x_name]\n",
    "        value_dict[x] += y\n",
    "        count_dict[x] += 1\n",
    "\n",
    "    for i in range(length):\n",
    "        y, x = data.loc[i, y_name],data.loc[i, x_name]\n",
    "        result[i] = (value_dict[x] - y) / (count_dict[x] - 1)\n",
    "        \n",
    "    return result"
   ]
  },
  {
   "cell_type": "markdown",
   "metadata": {},
   "source": [
    "## v3c 尝试 setdefault（变快）"
   ]
  },
  {
   "cell_type": "code",
   "execution_count": 179,
   "metadata": {},
   "outputs": [],
   "source": [
    "def target_mean_v3c(data, y_name, x_name):\n",
    "    length = data.shape[0]\n",
    "    result = np.zeros(length)\n",
    "    value_dict = {}\n",
    "    count_dict = {}\n",
    "    for i in range(length):\n",
    "        y, x = data.loc[i, y_name],data.loc[i, x_name]\n",
    "        value_dict[x] = value_dict.setdefault(x, 0) + y\n",
    "        count_dict[x] = count_dict.setdefault(x, 0) + 1\n",
    "\n",
    "    for i in range(length):\n",
    "        y, x = data.loc[i, y_name],data.loc[i, x_name]\n",
    "        result[i] = (value_dict[x] - y) / (count_dict[x] - 1)\n",
    "        \n",
    "    return result"
   ]
  },
  {
   "cell_type": "code",
   "execution_count": 90,
   "metadata": {},
   "outputs": [
    {
     "data": {
      "text/plain": [
       "array([0.53831041, 0.51089109, 0.45155039, ..., 0.47704591, 0.52410901,\n",
       "       0.55331992])"
      ]
     },
     "execution_count": 90,
     "metadata": {},
     "output_type": "execute_result"
    }
   ],
   "source": [
    "target_mean_v3c(data, 'y', 'x')"
   ]
  },
  {
   "cell_type": "code",
   "execution_count": 181,
   "metadata": {},
   "outputs": [
    {
     "name": "stdout",
     "output_type": "stream",
     "text": [
      "256 ms ± 7.83 ms per loop (mean ± std. dev. of 7 runs, 1 loop each)\n",
      "222 ms ± 8.11 ms per loop (mean ± std. dev. of 7 runs, 1 loop each)\n",
      "212 ms ± 5.85 ms per loop (mean ± std. dev. of 7 runs, 1 loop each)\n"
     ]
    }
   ],
   "source": [
    "%timeit target_mean_v3a(data, 'y', 'x')\n",
    "%timeit target_mean_v3b(data, 'y', 'x')\n",
    "%timeit target_mean_v3c(data, 'y', 'x')\n",
    "\n",
    "# defaultdict 简化了代码，但速度变慢了, setdefault 简化了代码，且速度变快了"
   ]
  },
  {
   "cell_type": "markdown",
   "metadata": {},
   "source": [
    "## v3d 尝试 groupby（简化了代码，但变慢了）"
   ]
  },
  {
   "cell_type": "code",
   "execution_count": 45,
   "metadata": {},
   "outputs": [
    {
     "data": {
      "text/html": [
       "<div>\n",
       "<style scoped>\n",
       "    .dataframe tbody tr th:only-of-type {\n",
       "        vertical-align: middle;\n",
       "    }\n",
       "\n",
       "    .dataframe tbody tr th {\n",
       "        vertical-align: top;\n",
       "    }\n",
       "\n",
       "    .dataframe thead tr th {\n",
       "        text-align: left;\n",
       "    }\n",
       "\n",
       "    .dataframe thead tr:last-of-type th {\n",
       "        text-align: right;\n",
       "    }\n",
       "</style>\n",
       "<table border=\"1\" class=\"dataframe\">\n",
       "  <thead>\n",
       "    <tr>\n",
       "      <th></th>\n",
       "      <th colspan=\"2\" halign=\"left\">y</th>\n",
       "    </tr>\n",
       "    <tr>\n",
       "      <th></th>\n",
       "      <th>sum</th>\n",
       "      <th>count</th>\n",
       "    </tr>\n",
       "    <tr>\n",
       "      <th>x</th>\n",
       "      <th></th>\n",
       "      <th></th>\n",
       "    </tr>\n",
       "  </thead>\n",
       "  <tbody>\n",
       "    <tr>\n",
       "      <th>0</th>\n",
       "      <td>259</td>\n",
       "      <td>506</td>\n",
       "    </tr>\n",
       "    <tr>\n",
       "      <th>1</th>\n",
       "      <td>247</td>\n",
       "      <td>502</td>\n",
       "    </tr>\n",
       "    <tr>\n",
       "      <th>2</th>\n",
       "      <td>251</td>\n",
       "      <td>478</td>\n",
       "    </tr>\n",
       "    <tr>\n",
       "      <th>3</th>\n",
       "      <td>233</td>\n",
       "      <td>517</td>\n",
       "    </tr>\n",
       "    <tr>\n",
       "      <th>4</th>\n",
       "      <td>241</td>\n",
       "      <td>490</td>\n",
       "    </tr>\n",
       "    <tr>\n",
       "      <th>5</th>\n",
       "      <td>275</td>\n",
       "      <td>510</td>\n",
       "    </tr>\n",
       "    <tr>\n",
       "      <th>6</th>\n",
       "      <td>240</td>\n",
       "      <td>502</td>\n",
       "    </tr>\n",
       "    <tr>\n",
       "      <th>7</th>\n",
       "      <td>260</td>\n",
       "      <td>491</td>\n",
       "    </tr>\n",
       "    <tr>\n",
       "      <th>8</th>\n",
       "      <td>271</td>\n",
       "      <td>506</td>\n",
       "    </tr>\n",
       "    <tr>\n",
       "      <th>9</th>\n",
       "      <td>276</td>\n",
       "      <td>498</td>\n",
       "    </tr>\n",
       "  </tbody>\n",
       "</table>\n",
       "</div>"
      ],
      "text/plain": [
       "     y      \n",
       "   sum count\n",
       "x           \n",
       "0  259   506\n",
       "1  247   502\n",
       "2  251   478\n",
       "3  233   517\n",
       "4  241   490\n",
       "5  275   510\n",
       "6  240   502\n",
       "7  260   491\n",
       "8  271   506\n",
       "9  276   498"
      ]
     },
     "execution_count": 45,
     "metadata": {},
     "output_type": "execute_result"
    }
   ],
   "source": [
    "# 计算总体的 sum 和count\n",
    "groupby_result = data.groupby(['x'], as_index=False).agg(['sum', 'count'])\n",
    "groupby_result"
   ]
  },
  {
   "cell_type": "code",
   "execution_count": 59,
   "metadata": {},
   "outputs": [
    {
     "data": {
      "text/plain": [
       "(276, 498)"
      ]
     },
     "execution_count": 59,
     "metadata": {},
     "output_type": "execute_result"
    }
   ],
   "source": [
    "sum, count = groupby_result.loc[9]\n",
    "sum, count"
   ]
  },
  {
   "cell_type": "code",
   "execution_count": 93,
   "metadata": {},
   "outputs": [],
   "source": [
    "from collections import defaultdict\n",
    "\n",
    "def target_mean_v3d(data, y_name, x_name):\n",
    "    length = data.shape[0]\n",
    "    result = np.zeros(length)\n",
    "    groupby_result = data.groupby(['x'], as_index=False).agg(['sum', 'count'])\n",
    "\n",
    "    for i in range(length):\n",
    "        y, x = data.loc[i, y_name],data.loc[i, x_name]\n",
    "        sum_total, count_total = groupby_result.loc[x]\n",
    "        result[i] = (sum_total - y) / (count_total - 1)\n",
    "    return result"
   ]
  },
  {
   "cell_type": "code",
   "execution_count": 94,
   "metadata": {},
   "outputs": [
    {
     "data": {
      "text/plain": [
       "array([0.53831041, 0.51089109, 0.45155039, ..., 0.47704591, 0.52410901,\n",
       "       0.55331992])"
      ]
     },
     "execution_count": 94,
     "metadata": {},
     "output_type": "execute_result"
    }
   ],
   "source": [
    "target_mean_v3d(data, 'y', 'x')"
   ]
  },
  {
   "cell_type": "code",
   "execution_count": 182,
   "metadata": {},
   "outputs": [
    {
     "name": "stdout",
     "output_type": "stream",
     "text": [
      "889 ms ± 32.7 ms per loop (mean ± std. dev. of 7 runs, 1 loop each)\n"
     ]
    }
   ],
   "source": [
    "%timeit target_mean_v3d(data, 'y', 'x')"
   ]
  },
  {
   "cell_type": "markdown",
   "metadata": {},
   "source": [
    "## v4 DataFrame中的loc操作较慢,使用原始数组替换"
   ]
  },
  {
   "cell_type": "code",
   "execution_count": 186,
   "metadata": {},
   "outputs": [],
   "source": [
    "def target_mean_v4(data, y_name, x_name):\n",
    "    length = data.shape[0]\n",
    "    result = np.zeros(length)\n",
    "    xs, ys = data[x_name].tolist(), data[y_name].tolist()\n",
    "    value_dict = {}\n",
    "    count_dict = {}\n",
    "    for i in range(length):\n",
    "        y, x = ys[i], xs[i]\n",
    "        value_dict[x] = value_dict.setdefault(x, 0) + y\n",
    "        count_dict[x] = count_dict.setdefault(x, 0) + 1\n",
    "\n",
    "    for i in range(length):\n",
    "        y, x = ys[i], xs[i]\n",
    "        result[i] = (value_dict[x] - y) / (count_dict[x] - 1)\n",
    "        \n",
    "    return result"
   ]
  },
  {
   "cell_type": "code",
   "execution_count": 187,
   "metadata": {},
   "outputs": [],
   "source": [
    "def target_mean_v4a(data, y_name, x_name):\n",
    "    length = data.shape[0]\n",
    "    result = np.zeros(length)\n",
    "    xs, ys = data[x_name].values, data[y_name].values\n",
    "    value_dict = {}\n",
    "    count_dict = {}\n",
    "    for i in range(length):\n",
    "        y, x = ys[i], xs[i]\n",
    "        value_dict[x] = value_dict.setdefault(x, 0) + y\n",
    "        count_dict[x] = count_dict.setdefault(x, 0) + 1\n",
    "\n",
    "    for i in range(length):\n",
    "        y, x = ys[i], xs[i]\n",
    "        result[i] = (value_dict[x] - y) / (count_dict[x] - 1)\n",
    "        \n",
    "    return result"
   ]
  },
  {
   "cell_type": "code",
   "execution_count": 129,
   "metadata": {},
   "outputs": [
    {
     "data": {
      "text/plain": [
       "[5, 0, 3, 3, 7, 9, 3, 5, 2, 4]"
      ]
     },
     "execution_count": 129,
     "metadata": {},
     "output_type": "execute_result"
    }
   ],
   "source": [
    "data['x'].values[:10]\n",
    "data['x'].tolist()[:10]"
   ]
  },
  {
   "cell_type": "code",
   "execution_count": 188,
   "metadata": {},
   "outputs": [
    {
     "name": "stdout",
     "output_type": "stream",
     "text": [
      "4.16 ms ± 204 µs per loop (mean ± std. dev. of 7 runs, 100 loops each)\n",
      "11.2 ms ± 311 µs per loop (mean ± std. dev. of 7 runs, 100 loops each)\n"
     ]
    }
   ],
   "source": [
    "%timeit target_mean_v4(data, 'y', 'x')\n",
    "%timeit target_mean_v4a(data, 'y', 'x')\n",
    "# tolist 比 values 更快"
   ]
  },
  {
   "cell_type": "markdown",
   "metadata": {},
   "source": [
    "# 3. 使用 Cython 优化"
   ]
  },
  {
   "cell_type": "code",
   "execution_count": 110,
   "metadata": {},
   "outputs": [],
   "source": [
    "%load_ext Cython"
   ]
  },
  {
   "cell_type": "markdown",
   "metadata": {},
   "source": [
    "## cython 指定变量类型"
   ]
  },
  {
   "cell_type": "code",
   "execution_count": null,
   "metadata": {},
   "outputs": [],
   "source": [
    "%%cython -a\n",
    "\n",
    "import numpy as np\n",
    "cimport numpy as cnp\n",
    "\n",
    "cpdef target_mean_v5_cython(data, str y_name, str x_name):\n",
    "    cdef int length = data.shape[0]\n",
    "    cdef cnp.ndarray[double] result = np.zeros(length)\n",
    "    xs = data[x_name].tolist()\n",
    "    ys = data[y_name].tolist()\n",
    "    value_dict = dict()\n",
    "    count_dict = dict()\n",
    "\n",
    "    for i in range(length):\n",
    "        y, x = ys[i], xs[i]\n",
    "        value_dict[x] = value_dict.setdefault(x, 0) + y\n",
    "        count_dict[x] = count_dict.setdefault(x, 0) + 1\n",
    "\n",
    "    for i in range(length):\n",
    "        y, x = ys[i], xs[i]\n",
    "        result[i] = (value_dict[x] - y) / (count_dict[x] - 1)\n",
    "        \n",
    "    return result"
   ]
  },
  {
   "cell_type": "code",
   "execution_count": null,
   "metadata": {},
   "outputs": [],
   "source": [
    "%%cython -a\n",
    "\n",
    "import numpy as np\n",
    "cimport numpy as cnp\n",
    "\n",
    "cpdef target_mean_v5a_cython(data, str y_name, str x_name):\n",
    "    cdef int length = data.shape[0]\n",
    "    cdef cnp.ndarray[double] result = np.zeros(length)\n",
    "    cdef cnp.ndarray[long] xs = data[x_name].values\n",
    "    cdef cnp.ndarray[long] ys = data[y_name].values\n",
    "    value_dict = dict()\n",
    "    count_dict = dict()\n",
    "\n",
    "    for i in range(length):\n",
    "        y, x = ys[i], xs[i]\n",
    "        value_dict[x] = value_dict.setdefault(x, 0) + y\n",
    "        count_dict[x] = count_dict.setdefault(x, 0) + 1\n",
    "\n",
    "    for i in range(length):\n",
    "        y, x = ys[i], xs[i]\n",
    "        result[i] = (value_dict[x] - y) / (count_dict[x] - 1)\n",
    "        \n",
    "    return result"
   ]
  },
  {
   "cell_type": "code",
   "execution_count": 149,
   "metadata": {},
   "outputs": [
    {
     "name": "stdout",
     "output_type": "stream",
     "text": [
      "1.64 ms ± 33.3 µs per loop (mean ± std. dev. of 7 runs, 1000 loops each)\n",
      "1.3 ms ± 29.3 µs per loop (mean ± std. dev. of 7 runs, 1000 loops each)\n"
     ]
    }
   ],
   "source": [
    "%timeit target_mean_v5_cython(data, 'y', 'x')\n",
    "%timeit target_mean_v5a_cython(data, 'y', 'x')\n",
    "# tolist 比 values 更快，但使用 cython 后 values 更快"
   ]
  },
  {
   "cell_type": "markdown",
   "metadata": {},
   "source": [
    "## 去除类型检查、包装检查（没有加快）"
   ]
  },
  {
   "cell_type": "code",
   "execution_count": null,
   "metadata": {},
   "outputs": [],
   "source": [
    "%%cython -a\n",
    "\n",
    "import numpy as np\n",
    "cimport numpy as cnp\n",
    "cimport cython\n",
    "\n",
    "@cython.boundscheck(False)\n",
    "@cython.wraparound(False)\n",
    "cpdef target_mean_v5b_cython(data, str y_name, str x_name):\n",
    "    cdef int length = data.shape[0]\n",
    "    cdef cnp.ndarray[double] result = np.zeros(length)\n",
    "    cdef cnp.ndarray[long] xs = data[x_name].values\n",
    "    cdef cnp.ndarray[long] ys = data[y_name].values\n",
    "    value_dict = dict()\n",
    "    count_dict = dict()\n",
    "    \n",
    "    for i from 0 <= i < length by 1:\n",
    "        y, x = ys[i], xs[i]\n",
    "        value_dict[x] = value_dict.setdefault(x, 0) + y\n",
    "        count_dict[x] = count_dict.setdefault(x, 0) + 1\n",
    "\n",
    "    for i from 0 <= i < length by 1:\n",
    "        y, x = ys[i], xs[i]\n",
    "        result[i] = (value_dict[x] - y) / (count_dict[x] - 1)\n",
    "        \n",
    "    return result"
   ]
  },
  {
   "cell_type": "code",
   "execution_count": 155,
   "metadata": {},
   "outputs": [
    {
     "name": "stdout",
     "output_type": "stream",
     "text": [
      "1.31 ms ± 37.1 µs per loop (mean ± std. dev. of 7 runs, 1000 loops each)\n",
      "1.3 ms ± 23.5 µs per loop (mean ± std. dev. of 7 runs, 1000 loops each)\n"
     ]
    }
   ],
   "source": [
    "%timeit target_mean_v5a_cython(data, 'y', 'x')\n",
    "%timeit target_mean_v5b_cython(data, 'y', 'x')"
   ]
  },
  {
   "cell_type": "markdown",
   "metadata": {},
   "source": [
    "## 使用 memoryview 用数组代替dict（加快了）"
   ]
  },
  {
   "cell_type": "code",
   "execution_count": null,
   "metadata": {},
   "outputs": [],
   "source": [
    "%%cython -a\n",
    "\n",
    "import numpy as np\n",
    "cimport numpy as cnp\n",
    "cimport cython\n",
    "\n",
    "@cython.boundscheck(False)\n",
    "@cython.wraparound(False)\n",
    "cpdef target_mean_v5c_cython(data, str y_name, str x_name):\n",
    "    cdef int length = data.shape[0]\n",
    "    cdef double[:] result = np.zeros(length)\n",
    "    cdef long[:] xs = data[x_name].values\n",
    "    cdef long[:] ys = data[y_name].values\n",
    "    cdef long[:] value = np.zeros(10).astype(long)\n",
    "    cdef long[:] count = np.zeros(10).astype(long)\n",
    "    \n",
    "    for i from 0 <= i < length by 1:\n",
    "        y, x = ys[i], xs[i]\n",
    "        value[x] += y\n",
    "        count[x] += 1\n",
    "\n",
    "    for i from 0 <= i < length by 1:\n",
    "        y, x = ys[i], xs[i]\n",
    "        result[i] = (value[x] - y) / (count[x] - 1)\n",
    "        \n",
    "    return result"
   ]
  },
  {
   "cell_type": "code",
   "execution_count": 158,
   "metadata": {},
   "outputs": [
    {
     "name": "stdout",
     "output_type": "stream",
     "text": [
      "747 µs ± 25.4 µs per loop (mean ± std. dev. of 7 runs, 1000 loops each)\n"
     ]
    }
   ],
   "source": [
    "%timeit target_mean_v5c_cython(data, 'y', 'x')"
   ]
  },
  {
   "cell_type": "markdown",
   "metadata": {},
   "source": [
    "## 使用prange代替for循环（加快了）"
   ]
  },
  {
   "cell_type": "code",
   "execution_count": null,
   "metadata": {},
   "outputs": [],
   "source": [
    "%%cython -a\n",
    "\n",
    "import numpy as np\n",
    "cimport numpy as cnp\n",
    "cimport cython\n",
    "from cython.parallel import prange\n",
    "\n",
    "@cython.boundscheck(False)\n",
    "@cython.wraparound(False)\n",
    "cpdef target_mean_v5d_cython(data, str y_name, str x_name):\n",
    "    cdef int length = data.shape[0]\n",
    "    cdef double[:] result = np.zeros(length)\n",
    "    cdef long[:] xs = data[x_name].values\n",
    "    cdef long[:] ys = data[y_name].values\n",
    "    cdef long[:] value = np.zeros(10).astype(long)\n",
    "    cdef long[:] count = np.zeros(10).astype(long)\n",
    "    \n",
    "    for i in prange(length, nogil=True):\n",
    "        y, x = ys[i], xs[i]\n",
    "        value[x] += y\n",
    "        count[x] += 1\n",
    "\n",
    "    for i from 0 <= i < length by 1:\n",
    "        y, x = ys[i], xs[i]\n",
    "        result[i] = (value[x] - y) / (count[x] - 1)\n",
    "        \n",
    "    return result"
   ]
  },
  {
   "cell_type": "markdown",
   "metadata": {},
   "source": [
    "## 以上代码 prange nogil 赋值报错，修改如下"
   ]
  },
  {
   "cell_type": "code",
   "execution_count": null,
   "metadata": {},
   "outputs": [],
   "source": [
    "%%cython -a\n",
    "\n",
    "import numpy as np\n",
    "cimport numpy as cnp\n",
    "cimport cython\n",
    "from cython.parallel import prange\n",
    "\n",
    "@cython.boundscheck(False)\n",
    "@cython.wraparound(False)\n",
    "cpdef target_mean_v5d_cython(data, str y_name, str x_name):\n",
    "    cdef int length = data.shape[0]\n",
    "    cdef double[:] result = np.zeros(length)\n",
    "    cdef long[:] xs = data[x_name].values\n",
    "    cdef long[:] ys = data[y_name].values\n",
    "    cdef long[:] value = np.zeros(10).astype(long)\n",
    "    cdef long[:] count = np.zeros(10).astype(long)\n",
    "    \n",
    "    cdef int i = 0\n",
    "    for i in prange(length, nogil=True):\n",
    "        value[xs[i]] += ys[i]\n",
    "        count[xs[i]] += 1\n",
    "\n",
    "    for i in prange(length, nogil=True):\n",
    "        result[i] = (value[xs[i]] - ys[i]) / (count[xs[i]] - 1)\n",
    "\n",
    "    return result"
   ]
  },
  {
   "cell_type": "code",
   "execution_count": 165,
   "metadata": {},
   "outputs": [
    {
     "name": "stdout",
     "output_type": "stream",
     "text": [
      "53.8 µs ± 650 ns per loop (mean ± std. dev. of 7 runs, 10000 loops each)\n"
     ]
    }
   ],
   "source": [
    "%timeit target_mean_v5d_cython(data, 'y', 'x')"
   ]
  },
  {
   "cell_type": "code",
   "execution_count": 189,
   "metadata": {},
   "outputs": [
    {
     "name": "stdout",
     "output_type": "stream",
     "text": [
      "376 ms ± 12.2 ms per loop (mean ± std. dev. of 7 runs, 1 loop each)\n",
      "4.34 ms ± 319 µs per loop (mean ± std. dev. of 7 runs, 100 loops each)\n",
      "56.7 µs ± 2.09 µs per loop (mean ± std. dev. of 7 runs, 10000 loops each)\n"
     ]
    }
   ],
   "source": [
    "# 讲义的 v2 版本\n",
    "%timeit target_mean_v2(data, 'y', 'x')\n",
    "\n",
    "# python 原生最快的版本\n",
    "%timeit target_mean_v4(data, 'y', 'x')\n",
    "\n",
    "# cython 最快的版本\n",
    "%timeit target_mean_v5d_cython(data, 'y', 'x')"
   ]
  },
  {
   "cell_type": "markdown",
   "metadata": {},
   "source": [
    "# 4. 总结\n",
    "\n",
    "python 原生优化：\n",
    "\n",
    "* 使用简单的数据结构，数组取数据比DataFrame 快\n",
    "* 使用简单的算法，自己实现的比自带的 groupby快, setdefault 比 defaultdict 快\n",
    "\n",
    "Cython 优化:\n",
    "\n",
    "* 指定变量类型\n",
    "* 使用 memoryview\n",
    "* 使用 prange代替for循环"
   ]
  }
 ],
 "metadata": {
  "kernelspec": {
   "display_name": "Python 3",
   "language": "python",
   "name": "python3"
  },
  "language_info": {
   "codemirror_mode": {
    "name": "ipython",
    "version": 3
   },
   "file_extension": ".py",
   "mimetype": "text/x-python",
   "name": "python",
   "nbconvert_exporter": "python",
   "pygments_lexer": "ipython3",
   "version": "3.9.0"
  }
 },
 "nbformat": 4,
 "nbformat_minor": 4
}
